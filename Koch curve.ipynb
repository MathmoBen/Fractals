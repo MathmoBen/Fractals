{
 "cells": [
  {
   "cell_type": "markdown",
   "id": "f1f29c04",
   "metadata": {},
   "source": [
    "## Koch curve"
   ]
  },
  {
   "cell_type": "code",
   "execution_count": 11,
   "id": "7e3997aa",
   "metadata": {},
   "outputs": [],
   "source": [
    "# This is an attempt to plot the famous Koch snowflake fractal closely following:\n",
    "# https://github.com/IlievskiV/Amusive-Blogging-N-Coding/blob/master/Visualizations/snowflake.ipynb"
   ]
  },
  {
   "cell_type": "markdown",
   "id": "92cb01f5",
   "metadata": {},
   "source": [
    "## Imports"
   ]
  },
  {
   "cell_type": "code",
   "execution_count": 12,
   "id": "2872548f",
   "metadata": {},
   "outputs": [],
   "source": [
    "import numpy as np\n",
    "import matplotlib.pyplot as plt\n",
    "import matplotlib.animation as animation\n",
    "\n",
    "# ignore warnings\n",
    "import warnings\n",
    "warnings.filterwarnings(\"ignore\")"
   ]
  },
  {
   "cell_type": "markdown",
   "id": "c7e08fbc",
   "metadata": {},
   "source": [
    "## Main function"
   ]
  },
  {
   "cell_type": "code",
   "execution_count": 14,
   "id": "572e3f81",
   "metadata": {},
   "outputs": [],
   "source": [
    "def koch_line(start, end, factor):\n",
    "    \"\"\"\n",
    "    Segments a line to Koch line, creating fractals.\n",
    "    \n",
    "    \n",
    "    :param tuple start:  (x, y) coordinates of the starting point\n",
    "    :param tuple end: (x, y) coordinates of the end point\n",
    "    :param float factor: the multiple of sixty degrees to rotate\n",
    "    :returns tuple: tuple of all points of segmentation\n",
    "    \"\"\"\n",
    "    \n",
    "    # coordinates of the start\n",
    "    x1, y1 = start[0], start[1]\n",
    "    \n",
    "    # coordinates of the end\n",
    "    x2, y2 = end[0], end[1]\n",
    "    \n",
    "    # the length of the line\n",
    "    l = np.sqrt((x2 - x1)**2 + (y2 - y1)**2)\n",
    "    \n",
    "    # first point: same as the start \n",
    "    a = (x1, y1)\n",
    "    \n",
    "    # second point: one third in each direction from the first point\n",
    "    b = (x1 + (x2 - x1)/3., y1 + (y2 - y1)/3.)\n",
    "    \n",
    "    # third point: rotation for multiple of 60 degrees\n",
    "    c = (b[0] + l/3. * np.cos(factor * np.pi/3.), b[1] + l/3. * np.sin(factor * np.pi/3.))\n",
    "    \n",
    "    # fourth point: two thirds in each direction from the first point\n",
    "    d = (x1 + 2. * (x2 - x1)/3., y1 + 2. * (y2 - y1)/3.)\n",
    "    \n",
    "    # the last point\n",
    "    e = end\n",
    "    \n",
    "    return {'a': a, 'b': b, 'c': c, 'd' : d, 'e' : e, 'factor' : factor}"
   ]
  },
  {
   "cell_type": "code",
   "execution_count": 15,
   "id": "b1403b3d",
   "metadata": {},
   "outputs": [],
   "source": [
    "def koch_snowflake(degree, s=5.0):\n",
    "    \"\"\"Generates all lines for a Koch Snowflake with a given degree.\n",
    "    \n",
    "    :param int degree: how deep to go in the branching process\n",
    "    :param float s: the length of the initial equilateral triangle\n",
    "    :returns list: list of all lines that form the snowflake\n",
    "    \"\"\"\n",
    "    # all lines of the snowflake\n",
    "    lines = []\n",
    "    \n",
    "    # we rotate in multiples of 60 degrees\n",
    "    sixty_degrees = np.pi / 3.\n",
    "    \n",
    "    # vertices of the initial equilateral triangle\n",
    "    A = (0., 0.)\n",
    "    B = (s, 0.)\n",
    "    C = (s * np.cos(sixty_degrees), s * np.sin(sixty_degrees))\n",
    "    \n",
    "    # set the initial lines\n",
    "    if degree == 0:\n",
    "        lines.append(koch_line(A, B, 0))\n",
    "        lines.append(koch_line(B, C, 2))\n",
    "        lines.append(koch_line(C, A, 4))\n",
    "    else:\n",
    "        lines.append(koch_line(A, B, 5))\n",
    "        lines.append(koch_line(B, C, 1))\n",
    "        lines.append(koch_line(C, A, 3))\n",
    "    \n",
    "    for i in range(1, degree):\n",
    "        # every lines produce 4 more lines\n",
    "        for _ in range(3*4**(i - 1)):\n",
    "            line = lines.pop(0)\n",
    "            factor = line['factor']\n",
    "\n",
    "            lines.append(koch_line(line['a'], line['b'], factor % 6))  # a to b\n",
    "            lines.append(koch_line(line['b'], line['c'], (factor - 1) % 6))  # b to c\n",
    "            lines.append(koch_line(line['c'], line['d'], (factor + 1) % 6))  # d to c\n",
    "            lines.append(koch_line(line['d'], line['e'], factor % 6))  # d to e\n",
    "\n",
    "    return lines"
   ]
  },
  {
   "cell_type": "code",
   "execution_count": null,
   "id": "0d75bda3",
   "metadata": {},
   "outputs": [],
   "source": []
  }
 ],
 "metadata": {
  "kernelspec": {
   "display_name": "Python 3 (ipykernel)",
   "language": "python",
   "name": "python3"
  },
  "language_info": {
   "codemirror_mode": {
    "name": "ipython",
    "version": 3
   },
   "file_extension": ".py",
   "mimetype": "text/x-python",
   "name": "python",
   "nbconvert_exporter": "python",
   "pygments_lexer": "ipython3",
   "version": "3.11.3"
  }
 },
 "nbformat": 4,
 "nbformat_minor": 5
}
