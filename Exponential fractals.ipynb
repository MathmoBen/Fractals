{
 "cells": [
  {
   "cell_type": "markdown",
   "id": "b41d93c8",
   "metadata": {},
   "source": [
    "# \"Exponantial\" fractals?"
   ]
  },
  {
   "cell_type": "markdown",
   "id": "93f2fd20",
   "metadata": {},
   "source": [
    "Here's a curious variant of the Newton-Raphson method. Suppose we're interested in finding the zeros of the real-valued function $f(x)$. Consider the function $g(x) = e^{\\frac{1}{2}x^2}f(x)$. Observe that $g$ is differentiable precisely where $f$ is and that $f(x_0)=0$ if and only if $g(x_0)=0$. Moreover, if we try applying Neton-Raphson to $g$ instead of $f$ we find that\n",
    "$$\n",
    "x-\\frac{g(x)}{g'(x)}=x-\\frac{e^{\\frac{1}{2}x^2}f(x)}{e^{\\frac{1}{2}x^2}f'(x)+xe^{\\frac{1}{2}x^2}f(x)}=\\frac{f(x)}{f'(x)-xf(x)}\n",
    "$$\n",
    "which is not substantially more computationally difficult to calculate than the original Newton-Raphson approach, but does seem to have a different convergence behaviour. It is therefore interesting to compare the sorts of fractals this gives us."
   ]
  },
  {
   "cell_type": "markdown",
   "id": "15de29ba",
   "metadata": {},
   "source": [
    "## The usual imports"
   ]
  },
  {
   "cell_type": "code",
   "execution_count": 1,
   "id": "e41abd79",
   "metadata": {},
   "outputs": [],
   "source": [
    "import numpy as np\n",
    "import matplotlib.pyplot as plt\n",
    "from matplotlib.colors import ListedColormap"
   ]
  },
  {
   "cell_type": "code",
   "execution_count": 2,
   "id": "887596c5",
   "metadata": {},
   "outputs": [],
   "source": [
    "# A list of colors to distinguish the roots.\n",
    "colors = ['b', 'r', 'g', 'y']\n",
    "\n",
    "TOL = 1.e-8"
   ]
  },
  {
   "cell_type": "code",
   "execution_count": 8,
   "id": "bb831108",
   "metadata": {},
   "outputs": [],
   "source": [
    "def new_exp(z0, f, fprime, MAX_IT=1000):\n",
    "    \"\"\"The 'Exponential' method applied to f(z).\n",
    "\n",
    "    Returns the root found, starting with an initial guess, z0, or False\n",
    "    if no convergence to tolerance TOL was reached within MAX_IT iterations.\n",
    "\n",
    "    \"\"\"\n",
    "\n",
    "    z = z0\n",
    "    for i in range(MAX_IT):\n",
    "        dz = f(z)/(fprime(z) + z*f(z))\n",
    "        if abs(dz) < TOL:\n",
    "            return z\n",
    "        z -= dz\n",
    "    return False"
   ]
  },
  {
   "cell_type": "markdown",
   "id": "9ca0e769",
   "metadata": {},
   "source": [
    "## The polynomial $z^4-1$"
   ]
  },
  {
   "cell_type": "code",
   "execution_count": null,
   "id": "9e953d95",
   "metadata": {},
   "outputs": [],
   "source": []
  },
  {
   "cell_type": "code",
   "execution_count": 9,
   "id": "1851fddf",
   "metadata": {},
   "outputs": [
    {
     "data": {
      "image/png": "[encoded data removed]",
      "text/plain": [
       "<Figure size 640x480 with 1 Axes>"
      ]
     },
     "metadata": {},
     "output_type": "display_data"
    }
   ],
   "source": [
    "def plot_exp_fractal(f, fprime, n=200, domain=(-1, 1, -1, 1)):\n",
    "\n",
    "    roots = []\n",
    "    m = np.zeros((n, n))\n",
    "    \n",
    "    def get_root_index(roots, r):\n",
    "\n",
    "        try:\n",
    "            return np.where(np.isclose(roots, r, atol=TOL))[0][0]\n",
    "        except IndexError:\n",
    "            roots.append(r)\n",
    "            return len(roots) - 1\n",
    "        \n",
    "    xmin, xmax, ymin, ymax = domain\n",
    "    for ix, x in enumerate(np.linspace(xmin, xmax, n)):\n",
    "        for iy, y in enumerate(np.linspace(ymin, ymax, n)):\n",
    "            z0 = x + y*1j\n",
    "            r = new_exp(z0, f, fprime)\n",
    "            if r is not False:\n",
    "                ir = get_root_index(roots, r)\n",
    "                m[iy, ix] = ir\n",
    "    nroots = len(roots)\n",
    "    if nroots > len(colors):\n",
    "        # Use a \"continuous\" colormap if there are too many roots.\n",
    "        cmap = 'hsv'\n",
    "    else:\n",
    "        # Use a list of colors for the colormap: one for each root.\n",
    "        cmap = ListedColormap(colors[:nroots])\n",
    "    plt.imshow(m, cmap=cmap, origin='lower')\n",
    "    plt.axis('off')\n",
    "    plt.show()\n",
    "\n",
    "f = lambda z: z**4 - 1\n",
    "fprime = lambda z: 4*z**3\n",
    "\n",
    "plot_exp_fractal(f, fprime, n=500)"
   ]
  },
  {
   "cell_type": "code",
   "execution_count": null,
   "id": "e6331fef",
   "metadata": {},
   "outputs": [],
   "source": []
  }
 ],
 "metadata": {
  "kernelspec": {
   "display_name": "Python 3 (ipykernel)",
   "language": "python",
   "name": "python3"
  },
  "language_info": {
   "codemirror_mode": {
    "name": "ipython",
    "version": 3
   },
   "file_extension": ".py",
   "mimetype": "text/x-python",
   "name": "python",
   "nbconvert_exporter": "python",
   "pygments_lexer": "ipython3",
   "version": "3.11.3"
  }
 },
 "nbformat": 4,
 "nbformat_minor": 5
}
