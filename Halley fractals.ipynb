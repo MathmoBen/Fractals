{
 "cells": [
  {
   "cell_type": "markdown",
   "id": "5b434f9d",
   "metadata": {},
   "source": [
    "# Halley Fractals"
   ]
  },
  {
   "cell_type": "markdown",
   "id": "f3e5e1f0",
   "metadata": {},
   "source": [
    "Here we give an attempt at producing a fracting using a relative of the Newton-Raphson method, namely Halley's method which colours points in the complex plane according to how rapidly the following converges to various zeros of a given polynomial. In Halley's method, given an approximate zero $l$ we can replace this with a slightly better approximation\n",
    "$$x_{n+1} = x_n - \\frac{2f(x_n)f'(x_n)}{2f'(x_n) ^2 - f(x_n)f''(x_n)}.$$\n",
    "\n"
   ]
  },
  {
   "cell_type": "markdown",
   "id": "f0bc6d34",
   "metadata": {},
   "source": [
    "## The usual imports"
   ]
  },
  {
   "cell_type": "code",
   "execution_count": 1,
   "id": "10a9eb3b",
   "metadata": {},
   "outputs": [],
   "source": [
    "import numpy as np\n",
    "import matplotlib.pyplot as plt\n",
    "from matplotlib.colors import ListedColormap"
   ]
  },
  {
   "cell_type": "markdown",
   "id": "628c3341",
   "metadata": {},
   "source": [
    "## A couple of preliminaries"
   ]
  },
  {
   "cell_type": "code",
   "execution_count": 2,
   "id": "c5472b79",
   "metadata": {},
   "outputs": [],
   "source": [
    "# A list of colors to distinguish the roots.\n",
    "colors = ['b', 'r', 'g', 'y']\n",
    "\n",
    "TOL = 1.e-8"
   ]
  },
  {
   "cell_type": "markdown",
   "id": "a14c4ee0",
   "metadata": {},
   "source": [
    "## The main functions needed"
   ]
  },
  {
   "cell_type": "code",
   "execution_count": 4,
   "id": "036cfd78",
   "metadata": {},
   "outputs": [],
   "source": [
    "def halley(z0, f, fprime, fprime2, MAX_IT=1000):\n",
    "    \"\"\"The Hally method applied to f(z).\n",
    "\n",
    "    Returns the root found, starting with an initial guess, z0, or False\n",
    "    if no convergence to tolerance TOL was reached within MAX_IT iterations.\n",
    "\n",
    "    \"\"\"\n",
    "\n",
    "    z = z0\n",
    "    for i in range(MAX_IT):\n",
    "        dz = 2*f(z)*fprime(z)/(2*fprime(z)**2 - f(z)*fprime2(z))\n",
    "        if abs(dz) < TOL:\n",
    "            return z\n",
    "        z -= dz\n",
    "    return False"
   ]
  },
  {
   "cell_type": "markdown",
   "id": "f00a30cd",
   "metadata": {},
   "source": [
    "## The polynomial $z^2 - 1$"
   ]
  },
  {
   "cell_type": "markdown",
   "id": "dc322ca6",
   "metadata": {},
   "source": [
    "In the below we plot the Hally fractal correspondin to the polynomial $z^4-1$."
   ]
  },
  {
   "cell_type": "code",
   "execution_count": 5,
   "id": "aa111ea5",
   "metadata": {},
   "outputs": [
    {
     "data": {
      "image/png": "[encoded data removed]",
      "text/plain": [
       "<Figure size 640x480 with 1 Axes>"
      ]
     },
     "metadata": {},
     "output_type": "display_data"
    }
   ],
   "source": [
    "def plot_hally_fractal(f, fprime, fprime2, n=200, domain=(-1, 1, -1, 1)):\n",
    "    \"\"\"Plot a Hally Fractal by finding the roots of f(z).\n",
    "\n",
    "    The domain used for the fractal image is the region of the complex plane\n",
    "    (xmin, xmax, ymin, ymax) where z = x + iy, discretized into n values along\n",
    "    each axis.\n",
    "\n",
    "    \"\"\"\n",
    "\n",
    "    roots = []\n",
    "    m = np.zeros((n, n))\n",
    "    \n",
    "    def get_root_index(roots, r):\n",
    "        \"\"\"Get the index of r in the list roots.\n",
    "\n",
    "        If r is not in roots, append it to the list.\n",
    "\n",
    "        \"\"\"\n",
    "\n",
    "        try:\n",
    "            return np.where(np.isclose(roots, r, atol=TOL))[0][0]\n",
    "        except IndexError:\n",
    "            roots.append(r)\n",
    "            return len(roots) - 1\n",
    "        \n",
    "    xmin, xmax, ymin, ymax = domain\n",
    "    for ix, x in enumerate(np.linspace(xmin, xmax, n)):\n",
    "        for iy, y in enumerate(np.linspace(ymin, ymax, n)):\n",
    "            z0 = x + y*1j\n",
    "            r = halley(z0, f, fprime, fprime2)\n",
    "            if r is not False:\n",
    "                ir = get_root_index(roots, r)\n",
    "                m[iy, ix] = ir\n",
    "    nroots = len(roots)\n",
    "    if nroots > len(colors):\n",
    "        # Use a \"continuous\" colormap if there are too many roots.\n",
    "        cmap = 'hsv'\n",
    "    else:\n",
    "        # Use a list of colors for the colormap: one for each root.\n",
    "        cmap = ListedColormap(colors[:nroots])\n",
    "    plt.imshow(m, cmap=cmap, origin='lower')\n",
    "    plt.axis('off')\n",
    "    plt.show()\n",
    "\n",
    "f = lambda z: z**4 - 1\n",
    "fprime = lambda z: 4*z**3\n",
    "fprime2 = lambda z: 12*z**2\n",
    "\n",
    "plot_hally_fractal(f, fprime, fprime2, n=500)"
   ]
  },
  {
   "cell_type": "markdown",
   "id": "76c5f5c7",
   "metadata": {},
   "source": [
    "## A slightly different zoom-in"
   ]
  },
  {
   "cell_type": "code",
   "execution_count": null,
   "id": "b36c1f6a",
   "metadata": {},
   "outputs": [],
   "source": [
    "def plot_hally_fractal(f, fprime, fprime2, n=200, domain=(-1, 1, -1, 1)):\n",
    "\n",
    "    roots = []\n",
    "    m = np.zeros((n, n))\n",
    "    \n",
    "    def get_root_index(roots, r):\n",
    "        try:\n",
    "            return np.where(np.isclose(roots, r, atol=TOL))[0][0]\n",
    "        except IndexError:\n",
    "            roots.append(r)\n",
    "            return len(roots) - 1\n",
    "        \n",
    "    xmin, xmax, ymin, ymax = domain\n",
    "    for ix, x in enumerate(np.linspace(xmin, xmax, n)):\n",
    "        for iy, y in enumerate(np.linspace(ymin, ymax, n)):\n",
    "            z0 = x + y*1j\n",
    "            r = halley(z0, f, fprime, fprime2)\n",
    "            if r is not False:\n",
    "                ir = get_root_index(roots, r)\n",
    "                m[iy, ix] = ir\n",
    "    nroots = len(roots)\n",
    "    if nroots > len(colors):\n",
    "        # Use a \"continuous\" colormap if there are too many roots.\n",
    "        cmap = 'hsv'\n",
    "    else:\n",
    "        # Use a list of colors for the colormap: one for each root.\n",
    "        cmap = ListedColormap(colors[:nroots])\n",
    "    plt.imshow(m, cmap=cmap, origin='lower')\n",
    "    plt.axis('off')\n",
    "    plt.show()\n",
    "\n",
    "f = lambda z: z**4 - 1\n",
    "fprime = lambda z: 4*z**3\n",
    "fprime2 = lambda z: 12*z**2\n",
    "\n",
    "plot_hally_fractal(f, fprime, fprime2, n=500)"
   ]
  }
 ],
 "metadata": {
  "kernelspec": {
   "display_name": "Python 3 (ipykernel)",
   "language": "python",
   "name": "python3"
  },
  "language_info": {
   "codemirror_mode": {
    "name": "ipython",
    "version": 3
   },
   "file_extension": ".py",
   "mimetype": "text/x-python",
   "name": "python",
   "nbconvert_exporter": "python",
   "pygments_lexer": "ipython3",
   "version": "3.11.3"
  }
 },
 "nbformat": 4,
 "nbformat_minor": 5
}
