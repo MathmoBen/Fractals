{
 "cells": [
  {
   "cell_type": "markdown",
   "id": "f8c14d32",
   "metadata": {},
   "source": [
    "# An attempt to draw some fractals"
   ]
  },
  {
   "cell_type": "markdown",
   "id": "3d936ffb",
   "metadata": {},
   "source": [
    "## Description & imports"
   ]
  },
  {
   "cell_type": "code",
   "execution_count": null,
   "id": "3c7a60dd",
   "metadata": {},
   "outputs": [],
   "source": [
    "#Fractals are cool geometric figures typically exhibiting self-similarity, i.e. looking the same at numerous scales\n",
    "#There are several ways to construct such objects and here we explore a few of them.\n",
    "#As a starting point, we try to reproduce the calculations here: https://realpython.com/mandelbrot-set-python/"
   ]
  },
  {
   "cell_type": "code",
   "execution_count": 2,
   "id": "1d07b961",
   "metadata": {},
   "outputs": [
    {
     "ename": "ModuleNotFoundError",
     "evalue": "No module named 'viewport'",
     "output_type": "error",
     "traceback": [
      "\u001b[1;31m---------------------------------------------------------------------------\u001b[0m",
      "\u001b[1;31mModuleNotFoundError\u001b[0m                       Traceback (most recent call last)",
      "Cell \u001b[1;32mIn[2], line 6\u001b[0m\n\u001b[0;32m      4\u001b[0m \u001b[38;5;28;01mfrom\u001b[39;00m \u001b[38;5;21;01mdataclasses\u001b[39;00m \u001b[38;5;28;01mimport\u001b[39;00m dataclass\n\u001b[0;32m      5\u001b[0m \u001b[38;5;28;01mfrom\u001b[39;00m \u001b[38;5;21;01mmath\u001b[39;00m \u001b[38;5;28;01mimport\u001b[39;00m log\n\u001b[1;32m----> 6\u001b[0m \u001b[38;5;28;01mfrom\u001b[39;00m \u001b[38;5;21;01mviewport\u001b[39;00m \u001b[38;5;28;01mimport\u001b[39;00m Viewport\n",
      "\u001b[1;31mModuleNotFoundError\u001b[0m: No module named 'viewport'"
     ]
    }
   ],
   "source": [
    "import numpy as np\n",
    "import matplotlib.pyplot as plt\n",
    "from PIL import Image\n",
    "from dataclasses import dataclass\n",
    "from math import log\n",
    "#from viewport import Viewport"
   ]
  },
  {
   "cell_type": "markdown",
   "id": "50cb9ce9",
   "metadata": {},
   "source": [
    "## Simple functions via NumPy "
   ]
  },
  {
   "cell_type": "code",
   "execution_count": 84,
   "id": "89db9e95",
   "metadata": {},
   "outputs": [],
   "source": [
    "# First basic function\n",
    "\n",
    "def z(n, c):\n",
    "    if n == 0:\n",
    "        return 0\n",
    "    else:\n",
    "        return z(n-1, c) ** 2 + c"
   ]
  },
  {
   "cell_type": "code",
   "execution_count": 85,
   "id": "dd71d80d",
   "metadata": {},
   "outputs": [
    {
     "name": "stdout",
     "output_type": "stream",
     "text": [
      "z(0) = 0\n",
      "z(1) = 0.325\n",
      "z(2) = 0.43062500000000004\n",
      "z(3) = 0.510437890625\n",
      "z(4) = 0.5855468401856995\n",
      "z(5) = 0.6678651020514571\n",
      "z(6) = 0.7710437945382032\n",
      "z(7) = 0.9195085330958708\n",
      "z(8) = 1.17049594243612\n",
      "z(9) = 1.695060751259421\n"
     ]
    }
   ],
   "source": [
    "#An example\n",
    "\n",
    "for n in range(10):\n",
    "    print(f\"z({n}) = {z(n, c = 0.325)}\")"
   ]
  },
  {
   "cell_type": "code",
   "execution_count": 16,
   "id": "98e5d38c",
   "metadata": {},
   "outputs": [],
   "source": [
    "# Same function but with a while loop\n",
    "\n",
    "def sequence(c):\n",
    "    z = 0\n",
    "    while True:\n",
    "        yield z\n",
    "        z = z ** 2 + c"
   ]
  },
  {
   "cell_type": "code",
   "execution_count": 19,
   "id": "acdb2594",
   "metadata": {},
   "outputs": [
    {
     "name": "stdout",
     "output_type": "stream",
     "text": [
      "z(0) = 0\n",
      "z(1) = 0\n",
      "z(2) = 0\n",
      "z(3) = 0\n",
      "z(4) = 0\n",
      "z(5) = 0\n",
      "z(6) = 0\n",
      "z(7) = 0\n",
      "z(8) = 0\n",
      "z(9) = 0\n"
     ]
    }
   ],
   "source": [
    "# Using the above\n",
    "\n",
    "for n, z in enumerate(sequence(c = 0)):\n",
    "    print(f\"z({n}) = {z}\")\n",
    "    if n >= 9:\n",
    "        break"
   ]
  },
  {
   "cell_type": "code",
   "execution_count": 23,
   "id": "600b5c7f",
   "metadata": {},
   "outputs": [],
   "source": [
    "def complex_matrix(xmin, xmax, ymin, ymax, pixel_density):\n",
    "    re = np.linspace(xmin, xmax, int((xmax - xmin) * pixel_density))\n",
    "    im = np.linspace(ymin, ymax, int((ymax - ymin) * pixel_density))\n",
    "    return re[np.newaxis, :] + im[:, np.newaxis] * 1j"
   ]
  },
  {
   "cell_type": "code",
   "execution_count": 27,
   "id": "70ffc2ba",
   "metadata": {},
   "outputs": [],
   "source": [
    "a = complex_matrix(0, 1, 0, 1, 10)"
   ]
  },
  {
   "cell_type": "code",
   "execution_count": 32,
   "id": "2fb9f514",
   "metadata": {},
   "outputs": [],
   "source": [
    "def is_stable(c, num_iterations):\n",
    "    z = 0\n",
    "    for _ in range(num_iterations):\n",
    "        z = z ** 2 + c\n",
    "    return abs(z) <= 2"
   ]
  },
  {
   "cell_type": "code",
   "execution_count": 37,
   "id": "b9892d7f",
   "metadata": {},
   "outputs": [],
   "source": [
    "def get_members(c, num_iterations):\n",
    "    mask = is_stable(c, num_iterations)\n",
    "    return c[mask]"
   ]
  },
  {
   "cell_type": "code",
   "execution_count": 40,
   "id": "27cc6fe1",
   "metadata": {},
   "outputs": [
    {
     "name": "stderr",
     "output_type": "stream",
     "text": [
      "C:\\Users\\Ben Fairbairn\\AppData\\Local\\Temp\\ipykernel_42456\\332138429.py:4: RuntimeWarning: overflow encountered in square\n",
      "  z = z ** 2 + c\n",
      "C:\\Users\\Ben Fairbairn\\AppData\\Local\\Temp\\ipykernel_42456\\332138429.py:4: RuntimeWarning: invalid value encountered in square\n",
      "  z = z ** 2 + c\n"
     ]
    },
    {
     "data": {
      "image/png": "[encoded data removed]",
      "text/plain": [
       "<Figure size 640x480 with 1 Axes>"
      ]
     },
     "metadata": {},
     "output_type": "display_data"
    }
   ],
   "source": [
    "c = complex_matrix(-2, 0.5, -1.5, 1.5, pixel_density = 21)\n",
    "members = get_members(c, num_iterations=20)\n",
    "\n",
    "plt.scatter(members.real, members.imag, color=\"black\", marker=\",\", s=1)\n",
    "plt.gca().set_aspect(\"equal\")\n",
    "plt.axis(\"off\")\n",
    "plt.tight_layout()\n",
    "plt.show()"
   ]
  },
  {
   "cell_type": "code",
   "execution_count": 46,
   "id": "ec6fde2c",
   "metadata": {},
   "outputs": [
    {
     "name": "stderr",
     "output_type": "stream",
     "text": [
      "C:\\Users\\Ben Fairbairn\\AppData\\Local\\Temp\\ipykernel_42456\\332138429.py:4: RuntimeWarning: overflow encountered in square\n",
      "  z = z ** 2 + c\n",
      "C:\\Users\\Ben Fairbairn\\AppData\\Local\\Temp\\ipykernel_42456\\332138429.py:4: RuntimeWarning: invalid value encountered in square\n",
      "  z = z ** 2 + c\n"
     ]
    },
    {
     "data": {
      "image/png": "[encoded data removed]",
      "text/plain": [
       "<Figure size 640x480 with 1 Axes>"
      ]
     },
     "metadata": {},
     "output_type": "display_data"
    }
   ],
   "source": [
    "#Same as above but experimenting with different pixel densities and number of iterations.\n",
    "\n",
    "c = complex_matrix(-2, 0.5, -1.5, 1.5, pixel_density = 210)\n",
    "members = get_members(c, num_iterations=2000)\n",
    "\n",
    "plt.scatter(members.real, members.imag, color=\"black\", marker=\",\", s=1)\n",
    "plt.gca().set_aspect(\"equal\")\n",
    "plt.axis(\"off\")\n",
    "plt.tight_layout()\n",
    "plt.show()"
   ]
  },
  {
   "cell_type": "code",
   "execution_count": 47,
   "id": "4b0c65c7",
   "metadata": {},
   "outputs": [
    {
     "name": "stderr",
     "output_type": "stream",
     "text": [
      "C:\\Users\\Ben Fairbairn\\AppData\\Local\\Temp\\ipykernel_42456\\332138429.py:4: RuntimeWarning: overflow encountered in square\n",
      "  z = z ** 2 + c\n",
      "C:\\Users\\Ben Fairbairn\\AppData\\Local\\Temp\\ipykernel_42456\\332138429.py:4: RuntimeWarning: invalid value encountered in square\n",
      "  z = z ** 2 + c\n"
     ]
    },
    {
     "data": {
      "image/png": "[encoded data removed]",
      "text/plain": [
       "<Figure size 640x480 with 1 Axes>"
      ]
     },
     "metadata": {},
     "output_type": "display_data"
    }
   ],
   "source": [
    "#A slightly more sophisticated approach to the same thing\n",
    "\n",
    "c = complex_matrix(-2, 0.5, -1.5, 1.5, pixel_density=512)\n",
    "plt.imshow(is_stable(c, num_iterations=20), cmap=\"binary\")\n",
    "plt.gca().set_aspect(\"equal\")\n",
    "plt.axis(\"off\")\n",
    "plt.tight_layout()\n",
    "plt.show()"
   ]
  },
  {
   "cell_type": "code",
   "execution_count": 50,
   "id": "5fadc69e",
   "metadata": {},
   "outputs": [
    {
     "name": "stderr",
     "output_type": "stream",
     "text": [
      "C:\\Users\\Ben Fairbairn\\AppData\\Local\\Temp\\ipykernel_42456\\332138429.py:4: RuntimeWarning: overflow encountered in square\n",
      "  z = z ** 2 + c\n",
      "C:\\Users\\Ben Fairbairn\\AppData\\Local\\Temp\\ipykernel_42456\\332138429.py:4: RuntimeWarning: invalid value encountered in square\n",
      "  z = z ** 2 + c\n"
     ]
    },
    {
     "data": {
      "image/png": "[encoded data removed]",
      "text/plain": [
       "<Figure size 640x480 with 1 Axes>"
      ]
     },
     "metadata": {},
     "output_type": "display_data"
    }
   ],
   "source": [
    "#A slightly different zoom of the same thing\n",
    "\n",
    "c = complex_matrix(-2, -0.5, -0.5, 0.5, pixel_density=512)\n",
    "plt.imshow(is_stable(c, num_iterations=20), cmap=\"binary\")\n",
    "plt.gca().set_aspect(\"equal\")\n",
    "plt.axis(\"off\")\n",
    "plt.tight_layout()\n",
    "plt.show()"
   ]
  },
  {
   "cell_type": "code",
   "execution_count": 53,
   "id": "08fe8544",
   "metadata": {},
   "outputs": [
    {
     "name": "stderr",
     "output_type": "stream",
     "text": [
      "C:\\Users\\Ben Fairbairn\\AppData\\Local\\Temp\\ipykernel_42456\\332138429.py:4: RuntimeWarning: overflow encountered in square\n",
      "  z = z ** 2 + c\n",
      "C:\\Users\\Ben Fairbairn\\AppData\\Local\\Temp\\ipykernel_42456\\332138429.py:4: RuntimeWarning: invalid value encountered in square\n",
      "  z = z ** 2 + c\n"
     ]
    }
   ],
   "source": [
    "#Producing similar images using Pillow instead\n",
    "\n",
    "c = complex_matrix(-2, 0.5, -1.5, 1.5, pixel_density=512)\n",
    "image = Image.fromarray(~is_stable(c, num_iterations=20))\n",
    "image.show()"
   ]
  },
  {
   "cell_type": "code",
   "execution_count": 56,
   "id": "512fdb04",
   "metadata": {},
   "outputs": [],
   "source": [
    "#Similar but using the internal functionality of pillow\n",
    "\n",
    "Image.effect_mandelbrot((1024, 1024), (-3, -2.5, 2, 2.5), 200).show()"
   ]
  },
  {
   "cell_type": "markdown",
   "id": "a94d4173",
   "metadata": {},
   "source": [
    "## More direct approach without NumPy"
   ]
  },
  {
   "cell_type": "code",
   "execution_count": 59,
   "id": "171d6938",
   "metadata": {},
   "outputs": [],
   "source": [
    "#More hands-on from this point onwards. Function that operates on individual numbers without vectorizing in NumPy\n",
    "\n",
    "def is_stable(c, max_iterations):\n",
    "    z = 0\n",
    "    for _ in range(max_iterations):\n",
    "        z = z ** 2 + c\n",
    "        if abs(z) > 2:\n",
    "            return False\n",
    "    return True"
   ]
  },
  {
   "cell_type": "code",
   "execution_count": 61,
   "id": "e4453b0a",
   "metadata": {},
   "outputs": [
    {
     "data": {
      "text/plain": [
       "True"
      ]
     },
     "execution_count": 61,
     "metadata": {},
     "output_type": "execute_result"
    }
   ],
   "source": [
    "# An example\n",
    "\n",
    "is_stable(0.26, max_iterations=20)"
   ]
  },
  {
   "cell_type": "code",
   "execution_count": 62,
   "id": "d25fe27a",
   "metadata": {},
   "outputs": [
    {
     "data": {
      "text/plain": [
       "False"
      ]
     },
     "execution_count": 62,
     "metadata": {},
     "output_type": "execute_result"
    }
   ],
   "source": [
    "#Another example\n",
    "\n",
    "is_stable(0.26, max_iterations=30)"
   ]
  },
  {
   "cell_type": "code",
   "execution_count": 64,
   "id": "b225c885",
   "metadata": {},
   "outputs": [],
   "source": [
    "# A more OOP-esq approach\n",
    "\n",
    "@dataclass\n",
    "class MandelbrotSet:\n",
    "    max_iterations: int\n",
    "\n",
    "    def __contains__(self, c: complex) -> bool:\n",
    "        z = 0\n",
    "        for _ in range(self.max_iterations):\n",
    "            z = z ** 2 + c\n",
    "            if abs(z) > 2:\n",
    "                return False\n",
    "        return True"
   ]
  },
  {
   "cell_type": "code",
   "execution_count": 75,
   "id": "26fc9401",
   "metadata": {},
   "outputs": [],
   "source": [
    "# using the above to produce and image\n",
    "\n",
    "#from mandelbrot import MandelbrotSet\n",
    "mandelbrot_set = MandelbrotSet(max_iterations=20)\n",
    "\n",
    "width, height = 512 * 2, 512 * 2\n",
    "scale = 0.0075 / 2\n",
    "BLACK_AND_WHITE = \"1\"\n",
    "\n",
    "image = Image.new(mode=BLACK_AND_WHITE, size=(width, height))\n",
    "for y in range(height):\n",
    "    for x in range(width):\n",
    "        c = scale * complex(x - width / 2, height / 2 - y)\n",
    "        image.putpixel((x, y), c not in mandelbrot_set)\n",
    "\n",
    "image.show()"
   ]
  },
  {
   "cell_type": "code",
   "execution_count": 78,
   "id": "98b7e4c2",
   "metadata": {},
   "outputs": [],
   "source": [
    "# Modifying the OOP approach to have amore refined approach to the escape count\n",
    "\n",
    "@dataclass\n",
    "class MandelbrotSet:\n",
    "    max_iterations: int\n",
    "        \n",
    "    def __contains__(self, c: complex) -> bool:\n",
    "        return self.stability(c) == 1\n",
    "        \n",
    "    def stability(self, c: complex) -> float:\n",
    "        return self.escape_count(c) / self.max_iterations\n",
    "\n",
    "    def escape_count(self, c: complex) -> int:\n",
    "        z = 0\n",
    "        for iteration in range(self.max_iterations):\n",
    "            z = z ** 2 + c\n",
    "            if abs(z) > 2:\n",
    "                return iteration\n",
    "        return self.max_iterations"
   ]
  },
  {
   "cell_type": "code",
   "execution_count": 79,
   "id": "9ad7f637",
   "metadata": {},
   "outputs": [
    {
     "data": {
      "text/plain": [
       "True"
      ]
     },
     "execution_count": 79,
     "metadata": {},
     "output_type": "execute_result"
    }
   ],
   "source": [
    "#Example of the above\n",
    "\n",
    "mandelbrot_set = MandelbrotSet(max_iterations=30)\n",
    "\n",
    "mandelbrot_set.escape_count(0.25)\n",
    "\n",
    "mandelbrot_set.stability(0.25)\n",
    "\n",
    "0.25 in mandelbrot_set"
   ]
  },
  {
   "cell_type": "code",
   "execution_count": 80,
   "id": "871bfcbe",
   "metadata": {},
   "outputs": [
    {
     "data": {
      "text/plain": [
       "False"
      ]
     },
     "execution_count": 80,
     "metadata": {},
     "output_type": "execute_result"
    }
   ],
   "source": [
    "#Further example of the above\n",
    "\n",
    "mandelbrot_set.escape_count(0.26)\n",
    "\n",
    "mandelbrot_set.stability(0.26)\n",
    "\n",
    "0.26 in mandelbrot_set"
   ]
  },
  {
   "cell_type": "code",
   "execution_count": 82,
   "id": "957ddb27",
   "metadata": {},
   "outputs": [],
   "source": [
    "# Similar to earlier OOP but with grayscale\n",
    "\n",
    "mandelbrot_set = MandelbrotSet(max_iterations=20)\n",
    "\n",
    "width, height = 512 * 2, 512 * 2\n",
    "scale = 0.0075 / 2\n",
    "GRAYSCALE = \"L\"\n",
    "\n",
    "image = Image.new(mode=GRAYSCALE, size=(width, height))\n",
    "for y in range(height):\n",
    "    for x in range(width):\n",
    "        c = scale * complex(x - width / 2, height / 2 - y)\n",
    "        instability = 1 - mandelbrot_set.stability(c)\n",
    "        image.putpixel((x, y), int(instability * 255))\n",
    "\n",
    "image.show()"
   ]
  },
  {
   "cell_type": "markdown",
   "id": "66c7f6c0",
   "metadata": {},
   "source": [
    "## Smoothing out the exterior"
   ]
  },
  {
   "cell_type": "code",
   "execution_count": 86,
   "id": "5e75c959",
   "metadata": {},
   "outputs": [],
   "source": [
    "#Starting to get colours involved\n",
    "\n",
    "# mandelbrot.py\n",
    "\n",
    "\n",
    "@dataclass\n",
    "class MandelbrotSet:\n",
    "    max_iterations: int\n",
    "    escape_radius: float = 2.0\n",
    "\n",
    "    def __contains__(self, c: complex) -> bool:\n",
    "        return self.stability(c) == 1\n",
    "\n",
    "    def stability(self, c: complex, smooth=False) -> float:\n",
    "        return self.escape_count(c, smooth) / self.max_iterations\n",
    "\n",
    "    def escape_count(self, c: complex, smooth=False) -> int | float:\n",
    "        z = 0\n",
    "        for iteration in range(self.max_iterations):\n",
    "            z = z ** 2 + c\n",
    "            if abs(z) > self.escape_radius:\n",
    "                if smooth:\n",
    "                    return iteration + 1 - log(log(abs(z))) / log(2)\n",
    "                return iteration\n",
    "        return self.max_iterations"
   ]
  },
  {
   "cell_type": "code",
   "execution_count": 89,
   "id": "5d973c9e",
   "metadata": {},
   "outputs": [
    {
     "data": {
      "text/plain": [
       "1.014794475165942"
      ]
     },
     "execution_count": 89,
     "metadata": {},
     "output_type": "execute_result"
    }
   ],
   "source": [
    "# Example of the above\n",
    "\n",
    "mandelbrot_set = MandelbrotSet(max_iterations=30)\n",
    "\n",
    "mandelbrot_set.stability(-1.2039 - 0.1996j, smooth=True)"
   ]
  },
  {
   "cell_type": "code",
   "execution_count": 90,
   "id": "5bb71080",
   "metadata": {},
   "outputs": [
    {
     "data": {
      "text/plain": [
       "-0.030071301713066417"
      ]
     },
     "execution_count": 90,
     "metadata": {},
     "output_type": "execute_result"
    }
   ],
   "source": [
    "# Another example\n",
    "\n",
    "mandelbrot_set.stability(42, smooth=True)"
   ]
  },
  {
   "cell_type": "code",
   "execution_count": 91,
   "id": "09f1d59c",
   "metadata": {},
   "outputs": [],
   "source": [
    "# Taking care of some rounding issues\n",
    "\n",
    "@dataclass\n",
    "class MandelbrotSet:\n",
    "    max_iterations: int\n",
    "    escape_radius: float = 2.0\n",
    "\n",
    "    def __contains__(self, c: complex) -> bool:\n",
    "        return self.stability(c) == 1\n",
    "\n",
    "    def stability(self, c: complex, smooth=False, clamp=True) -> float:\n",
    "        value = self.escape_count(c, smooth) / self.max_iterations\n",
    "        return max(0.0, min(value, 1.0)) if clamp else value\n",
    "\n",
    "    def escape_count(self, c: complex, smooth=False) -> int | float:\n",
    "        z = 0\n",
    "        for iteration in range(self.max_iterations):\n",
    "            z = z ** 2 + c\n",
    "            if abs(z) > self.escape_radius:\n",
    "                if smooth:\n",
    "                    return iteration + 1 - log(log(abs(z))) / log(2)\n",
    "                return iteration\n",
    "        return self.max_iterations"
   ]
  },
  {
   "cell_type": "code",
   "execution_count": 93,
   "id": "077c00bd",
   "metadata": {},
   "outputs": [],
   "source": [
    "# Plotting the image with the above\n",
    "\n",
    "width, height = 512 * 2, 512 * 2\n",
    "scale = 0.0075 / 2\n",
    "GRAYSCALE = \"L\"\n",
    "\n",
    "image = Image.new(mode=GRAYSCALE, size=(width, height))\n",
    "for y in range(height):\n",
    "    for x in range(width):\n",
    "        c = scale * complex(x - width / 2, height / 2 - y)\n",
    "        instability = 1 - mandelbrot_set.stability(c, smooth=True)\n",
    "        image.putpixel((x, y), int(instability * 255))\n",
    "\n",
    "image.show()"
   ]
  }
 ],
 "metadata": {
  "kernelspec": {
   "display_name": "Python 3 (ipykernel)",
   "language": "python",
   "name": "python3"
  },
  "language_info": {
   "codemirror_mode": {
    "name": "ipython",
    "version": 3
   },
   "file_extension": ".py",
   "mimetype": "text/x-python",
   "name": "python",
   "nbconvert_exporter": "python",
   "pygments_lexer": "ipython3",
   "version": "3.11.3"
  }
 },
 "nbformat": 4,
 "nbformat_minor": 5
}
